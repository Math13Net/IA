{
 "cells": [
  {
   "cell_type": "markdown",
   "id": "481a05ff",
   "metadata": {},
   "source": [
    "# module Numpy"
   ]
  },
  {
   "cell_type": "markdown",
   "id": "9c314352",
   "metadata": {},
   "source": [
    "machine learnia_video 12 &nbsp; &nbsp; &nbsp; [lien](https://youtu.be/RwFiNlL4Q8g)"
   ]
  },
  {
   "cell_type": "code",
   "execution_count": 2,
   "id": "8a0f7e7c",
   "metadata": {},
   "outputs": [],
   "source": [
    "import numpy as np"
   ]
  },
  {
   "cell_type": "code",
   "execution_count": 17,
   "id": "abefc582",
   "metadata": {},
   "outputs": [
    {
     "data": {
      "text/plain": [
       "array([[5, 0, 3],\n",
       "       [3, 7, 9]])"
      ]
     },
     "execution_count": 17,
     "metadata": {},
     "output_type": "execute_result"
    }
   ],
   "source": [
    "np.random.seed(0)\n",
    "A = np.random.randint(0, 10, [2, 3])\n",
    "A"
   ]
  },
  {
   "cell_type": "markdown",
   "id": "f76bf032",
   "metadata": {},
   "source": [
    "## 1. méthode ndarray &nbsp; &nbsp; &nbsp; [lien](https://numpy.org/doc/stable/reference/generated/numpy.ndarray.html)"
   ]
  },
  {
   "cell_type": "code",
   "execution_count": 18,
   "id": "d608c417",
   "metadata": {},
   "outputs": [
    {
     "name": "stdout",
     "output_type": "stream",
     "text": [
      "somme = 27 - moyenne = 4.5 - max = 9 - min = 0\n"
     ]
    }
   ],
   "source": [
    "print(f\"somme = {A.sum()} - moyenne = {A.mean()} - max = {A.max()} - min = {A.min()}\")"
   ]
  },
  {
   "cell_type": "code",
   "execution_count": 14,
   "id": "28a5776a",
   "metadata": {},
   "outputs": [
    {
     "data": {
      "text/plain": [
       "array([ 8,  7, 12])"
      ]
     },
     "execution_count": 14,
     "metadata": {},
     "output_type": "execute_result"
    }
   ],
   "source": [
    "A.sum(axis=0)"
   ]
  },
  {
   "cell_type": "code",
   "execution_count": 15,
   "id": "42d3de54",
   "metadata": {},
   "outputs": [
    {
     "data": {
      "text/plain": [
       "array([ 8, 19])"
      ]
     },
     "execution_count": 15,
     "metadata": {},
     "output_type": "execute_result"
    }
   ],
   "source": [
    "A.sum(axis=1)"
   ]
  },
  {
   "cell_type": "code",
   "execution_count": 23,
   "id": "7f3b8ad8",
   "metadata": {},
   "outputs": [
    {
     "name": "stdout",
     "output_type": "stream",
     "text": [
      "[[5 0 3]\n",
      " [3 7 9]]\n",
      "\n",
      "[1 0 0]\n",
      "\n",
      "1\n"
     ]
    }
   ],
   "source": [
    "# position du minimum\n",
    "print(A)\n",
    "print()\n",
    "print(A.argmin(axis = 0))\n",
    "print()\n",
    "print(A.argmin(axis = 0).argmin(axis = 0))"
   ]
  },
  {
   "cell_type": "code",
   "execution_count": 41,
   "id": "32235b6c",
   "metadata": {},
   "outputs": [
    {
     "name": "stdout",
     "output_type": "stream",
     "text": [
      "[ 1  3 -2  5]\n",
      "\n",
      "[-2  1  3  5]\n",
      "\n",
      "[2 0 1 3]\n"
     ]
    }
   ],
   "source": [
    "#.sort() et .argsort()\n",
    "B = np.array([1, 3, -2, 5])\n",
    "print(B)\n",
    "print()\n",
    "C = np.sort(B)\n",
    "print(C)\n",
    "print()\n",
    "D = np.argsort(B)\n",
    "print(D)"
   ]
  },
  {
   "cell_type": "markdown",
   "id": "9b27826e",
   "metadata": {},
   "source": [
    "## 2. fonction mathématique &nbsp; &nbsp; &nbsp; [lien](https://docs.scipy.org/doc/numpy-1.13.0/reference/routines.math.html)"
   ]
  },
  {
   "cell_type": "code",
   "execution_count": 49,
   "id": "476b7302",
   "metadata": {},
   "outputs": [
    {
     "name": "stdout",
     "output_type": "stream",
     "text": [
      "[[5 0 3]\n",
      " [3 7 9]]\n",
      "\n",
      "[[1.48413159e+02 1.00000000e+00 2.00855369e+01]\n",
      " [2.00855369e+01 1.09663316e+03 8.10308393e+03]]\n"
     ]
    }
   ],
   "source": [
    "np.random.seed(0)\n",
    "A = np.random.randint(0, 10, [2, 3])\n",
    "print(A)\n",
    "print()\n",
    "exp_A = np.exp(A)\n",
    "print(exp_A)"
   ]
  },
  {
   "cell_type": "markdown",
   "id": "244671fe",
   "metadata": {},
   "source": [
    "## 3. statistique &nbsp; &nbsp; &nbsp; [lien](https://docs.scipy.org/doc/numpy-1.13.0/reference/routines.statistics.html)"
   ]
  },
  {
   "cell_type": "code",
   "execution_count": 2,
   "id": "426d15f9",
   "metadata": {},
   "outputs": [
    {
     "ename": "NameError",
     "evalue": "name 'A' is not defined",
     "output_type": "error",
     "traceback": [
      "\u001b[1;31m---------------------------------------------------------------------------\u001b[0m",
      "\u001b[1;31mNameError\u001b[0m                                 Traceback (most recent call last)",
      "Input \u001b[1;32mIn [2]\u001b[0m, in \u001b[0;36m<cell line: 1>\u001b[1;34m()\u001b[0m\n\u001b[1;32m----> 1\u001b[0m \u001b[43mA\u001b[49m\n",
      "\u001b[1;31mNameError\u001b[0m: name 'A' is not defined"
     ]
    }
   ],
   "source": [
    "A"
   ]
  },
  {
   "cell_type": "code",
   "execution_count": 52,
   "id": "a1827c49",
   "metadata": {},
   "outputs": [
    {
     "name": "stdout",
     "output_type": "stream",
     "text": [
      "moyenne = 4.5 - variance = 8.583 - écart type = 2.930\n"
     ]
    }
   ],
   "source": [
    "print(f\"moyenne = {A.mean()} - variance = {A.var():.3f} - écart type = {A.std():.3f}\")"
   ]
  },
  {
   "cell_type": "code",
   "execution_count": 53,
   "id": "5783744c",
   "metadata": {},
   "outputs": [
    {
     "data": {
      "text/plain": [
       "array([[ 1.        , -0.56362148],\n",
       "       [-0.56362148,  1.        ]])"
      ]
     },
     "execution_count": 53,
     "metadata": {},
     "output_type": "execute_result"
    }
   ],
   "source": [
    "# coef de corélation entre les différents lignes\n",
    "np.corrcoef(A)"
   ]
  },
  {
   "cell_type": "code",
   "execution_count": 55,
   "id": "442f6143",
   "metadata": {},
   "outputs": [
    {
     "data": {
      "text/plain": [
       "(array([0, 3, 5, 7, 9]), array([1, 2, 1, 1, 1], dtype=int64))"
      ]
     },
     "execution_count": 55,
     "metadata": {},
     "output_type": "execute_result"
    }
   ],
   "source": [
    "np.unique(A, return_counts=True)"
   ]
  },
  {
   "cell_type": "code",
   "execution_count": 5,
   "id": "bc7f6e30",
   "metadata": {},
   "outputs": [
    {
     "name": "stdout",
     "output_type": "stream",
     "text": [
      "[[5 0 3 3 7]\n",
      " [9 3 5 2 4]\n",
      " [7 6 8 8 1]\n",
      " [6 7 7 8 1]\n",
      " [5 9 8 9 4]]\n",
      "\n",
      "[0 1 2 3 4 5 6 7 8 9]\n",
      "\n",
      "[1 2 1 3 2 3 2 4 4 3]\n",
      "\n",
      "[0 2 1 4 6 3 5 9 7 8]\n"
     ]
    }
   ],
   "source": [
    "import numpy as np\n",
    "np.random.seed(0)\n",
    "A = np.random.randint(0, 10, [5, 5])\n",
    "print(A)\n",
    "print()\n",
    "value, count = np.unique(A, return_counts=True)\n",
    "print(value)\n",
    "print()\n",
    "print(count)\n",
    "print()\n",
    "print(count.argsort())"
   ]
  },
  {
   "cell_type": "code",
   "execution_count": 9,
   "id": "1260ee9e",
   "metadata": {},
   "outputs": [
    {
     "name": "stdout",
     "output_type": "stream",
     "text": [
      "[0 2 1 4 6 3 5 9 7 8]\n",
      "[1 1 2 2 2 3 3 3 4 4]\n"
     ]
    }
   ],
   "source": [
    "B = value[count.argsort()]\n",
    "print(B)\n",
    "C = count[count.argsort()]\n",
    "print(C)"
   ]
  },
  {
   "cell_type": "code",
   "execution_count": 10,
   "id": "e7979a68",
   "metadata": {
    "scrolled": true
   },
   "outputs": [
    {
     "name": "stdout",
     "output_type": "stream",
     "text": [
      "la valeur 0 apparaît 1 fois\n",
      "la valeur 2 apparaît 1 fois\n",
      "la valeur 1 apparaît 2 fois\n",
      "la valeur 4 apparaît 2 fois\n",
      "la valeur 6 apparaît 2 fois\n",
      "la valeur 3 apparaît 3 fois\n",
      "la valeur 5 apparaît 3 fois\n",
      "la valeur 9 apparaît 3 fois\n",
      "la valeur 7 apparaît 4 fois\n",
      "la valeur 8 apparaît 4 fois\n"
     ]
    }
   ],
   "source": [
    "for i,j in zip(value[count.argsort()], count[count.argsort()]):\n",
    "    print(f\"la valeur {i} apparaît {j} fois\")"
   ]
  },
  {
   "cell_type": "markdown",
   "id": "be64d571",
   "metadata": {},
   "source": [
    "## 4. NaN correction"
   ]
  },
  {
   "cell_type": "code",
   "execution_count": 14,
   "id": "03b6afc7",
   "metadata": {},
   "outputs": [
    {
     "data": {
      "text/plain": [
       "array([[ 1.76405235,  0.40015721,         nan,  2.2408932 ,  1.86755799],\n",
       "       [-0.97727788,  0.95008842, -0.15135721, -0.10321885,  0.4105985 ],\n",
       "       [ 0.14404357,  1.45427351,  0.76103773,  0.12167502,  0.44386323],\n",
       "       [ 0.33367433,  1.49407907, -0.20515826,  0.3130677 , -0.85409574],\n",
       "       [-2.55298982,  0.6536186 ,  0.8644362 ,         nan,  2.26975462]])"
      ]
     },
     "execution_count": 14,
     "metadata": {},
     "output_type": "execute_result"
    }
   ],
   "source": [
    "import numpy as np\n",
    "A = np.random.randn(5, 5)\n",
    "A[0,2] = np.nan\n",
    "A[4,3] = np.nan\n",
    "A"
   ]
  },
  {
   "cell_type": "code",
   "execution_count": 15,
   "id": "931a011a",
   "metadata": {},
   "outputs": [
    {
     "data": {
      "text/plain": [
       "nan"
      ]
     },
     "execution_count": 15,
     "metadata": {},
     "output_type": "execute_result"
    }
   ],
   "source": [
    "A.mean()"
   ]
  },
  {
   "cell_type": "code",
   "execution_count": 22,
   "id": "8d200059",
   "metadata": {},
   "outputs": [
    {
     "data": {
      "text/plain": [
       "0.5062075424895804"
      ]
     },
     "execution_count": 22,
     "metadata": {},
     "output_type": "execute_result"
    }
   ],
   "source": [
    "np.nanmean(A)"
   ]
  },
  {
   "cell_type": "code",
   "execution_count": 32,
   "id": "12143e24",
   "metadata": {},
   "outputs": [
    {
     "name": "stdout",
     "output_type": "stream",
     "text": [
      "il y a 2 NaN dans notre tableau, ce qui représente 8 % des valeurs totales\n"
     ]
    }
   ],
   "source": [
    "nb_nan = np.isnan(A).sum()\n",
    "pc_nan = nb_nan/A.size*100\n",
    "print(f\"il y a {nb_nan} NaN dans notre tableau, ce qui représente {pc_nan:.0f} % des valeurs totales\")"
   ]
  },
  {
   "cell_type": "code",
   "execution_count": 33,
   "id": "a403e369",
   "metadata": {},
   "outputs": [
    {
     "data": {
      "text/plain": [
       "array([[ 1.76405235,  0.40015721,  0.        ,  2.2408932 ,  1.86755799],\n",
       "       [-0.97727788,  0.95008842, -0.15135721, -0.10321885,  0.4105985 ],\n",
       "       [ 0.14404357,  1.45427351,  0.76103773,  0.12167502,  0.44386323],\n",
       "       [ 0.33367433,  1.49407907, -0.20515826,  0.3130677 , -0.85409574],\n",
       "       [-2.55298982,  0.6536186 ,  0.8644362 ,  0.        ,  2.26975462]])"
      ]
     },
     "execution_count": 33,
     "metadata": {},
     "output_type": "execute_result"
    }
   ],
   "source": [
    "# boolean indexing = application du masuqe des NaN\n",
    "A[np.isnan(A)] = 0\n",
    "A"
   ]
  },
  {
   "cell_type": "markdown",
   "id": "8daf0fcf",
   "metadata": {},
   "source": [
    "## 5. algèbre linéaire &nbsp; &nbsp; &nbsp; [lien](https://docs.scipy.org/doc/numpy-1.13.0/reference/routines.linalg.html)"
   ]
  },
  {
   "cell_type": "code",
   "execution_count": 34,
   "id": "00b27d09",
   "metadata": {},
   "outputs": [
    {
     "name": "stdout",
     "output_type": "stream",
     "text": [
      "[[1. 1. 1.]\n",
      " [1. 1. 1.]]\n",
      "\n",
      "[[1. 1.]\n",
      " [1. 1.]\n",
      " [1. 1.]]\n"
     ]
    }
   ],
   "source": [
    "import numpy as np\n",
    "A = np.ones((2,3))\n",
    "B = np.ones((3,2))\n",
    "print(A)\n",
    "print()\n",
    "print(B)"
   ]
  },
  {
   "cell_type": "code",
   "execution_count": 36,
   "id": "1903527d",
   "metadata": {},
   "outputs": [
    {
     "data": {
      "text/plain": [
       "array([[1., 1.],\n",
       "       [1., 1.],\n",
       "       [1., 1.]])"
      ]
     },
     "execution_count": 36,
     "metadata": {},
     "output_type": "execute_result"
    }
   ],
   "source": [
    "A.T    # transposée"
   ]
  },
  {
   "cell_type": "code",
   "execution_count": 37,
   "id": "2879ddbb",
   "metadata": {},
   "outputs": [
    {
     "data": {
      "text/plain": [
       "array([[3., 3.],\n",
       "       [3., 3.]])"
      ]
     },
     "execution_count": 37,
     "metadata": {},
     "output_type": "execute_result"
    }
   ],
   "source": [
    "A.dot(B)    # produit matriciel AB"
   ]
  },
  {
   "cell_type": "code",
   "execution_count": 76,
   "id": "929a8094",
   "metadata": {},
   "outputs": [
    {
     "name": "stdout",
     "output_type": "stream",
     "text": [
      "[[8 9 8]\n",
      " [3 6 1]\n",
      " [7 4 9]]\n",
      "\n",
      "det C = -20.000\n",
      "[[8 9 8]\n",
      " [3 6 1]\n",
      " [7 4 9]]\n",
      "\n",
      "vp 18.144 associée au vp [-0.72081637 -0.81656543 -0.04918056]\n",
      "vp -0.217 associée au vp [-0.23184799  0.31635154 -0.65457716]\n",
      "vp 5.073 associée au vp [-0.65320003  0.48284843  0.7543938 ]\n"
     ]
    }
   ],
   "source": [
    "C = np.random.randint(0,10,[3,3])\n",
    "print(C)\n",
    "print()\n",
    "print(f\"det C = {np.linalg.det(C):.3f}\")\n",
    "D = np.linalg.inv(C)               # préciser l'utilisation de np.linalg.pinv(C) = pseudo inverse ... ???\n",
    "print(C)\n",
    "print()\n",
    "\n",
    "\n",
    "C_valeur, C_vecteur = np.linalg.eig(C)\n",
    "#print(\"valeurs propres :\")\n",
    "#print(C_valeur)\n",
    "#print()\n",
    "#print(\"vecteurs propres :\")\n",
    "#print(C_vecteur)\n",
    "#print()\n",
    "\n",
    "for i in range(len(C_valeur)):\n",
    "    print(f\"vp {C_valeur[i]:.3f} associée au vp {C_vecteur[i]}\")"
   ]
  },
  {
   "cell_type": "markdown",
   "id": "9ab0d4c0",
   "metadata": {},
   "source": [
    "## 6. exercice : standardiser une matrice (centrer er réduire)\n",
    "( x - moyenne(x) ) / ecart_type"
   ]
  },
  {
   "cell_type": "code",
   "execution_count": 47,
   "id": "0a68f864",
   "metadata": {},
   "outputs": [
    {
     "data": {
      "text/plain": [
       "array([[44, 47, 64, 67, 67],\n",
       "       [ 9, 83, 21, 36, 87],\n",
       "       [70, 88, 88, 12, 58],\n",
       "       [65, 39, 87, 46, 88],\n",
       "       [81, 37, 25, 77, 72],\n",
       "       [ 9, 20, 80, 69, 79],\n",
       "       [47, 64, 82, 99, 88],\n",
       "       [49, 29, 19, 19, 14],\n",
       "       [39, 32, 65,  9, 57],\n",
       "       [32, 31, 74, 23, 35]])"
      ]
     },
     "execution_count": 47,
     "metadata": {},
     "output_type": "execute_result"
    }
   ],
   "source": [
    "import numpy as np\n",
    "np.random.seed(0)\n",
    "A = np.random.randint(0, 100, [10,5])\n",
    "A"
   ]
  },
  {
   "cell_type": "code",
   "execution_count": 48,
   "id": "d456d67f",
   "metadata": {},
   "outputs": [
    {
     "data": {
      "text/plain": [
       "array([[-0.02206157,  0.        ,  0.13173823,  0.72539252,  0.10755798],\n",
       "       [-1.56637126,  1.61579632, -1.48676006, -0.33034307,  0.96802178],\n",
       "       [ 1.12513992,  1.84021247,  1.03508612, -1.14768676, -0.27965074],\n",
       "       [ 0.90452425, -0.35906585,  0.99744662,  0.0102168 ,  1.01104497],\n",
       "       [ 1.6104944 , -0.44883231, -1.33620208,  1.0659524 ,  0.32267393],\n",
       "       [-1.56637126, -1.21184724,  0.73397016,  0.7935045 ,  0.62383626],\n",
       "       [ 0.11030784,  0.76301493,  0.80924915,  1.81518411,  1.01104497],\n",
       "       [ 0.1985541 , -0.80789816, -1.56203905, -0.90929485, -2.17267111],\n",
       "       [-0.24267724, -0.67324847,  0.16937773, -1.24985473, -0.32267393],\n",
       "       [-0.55153918, -0.7181317 ,  0.50813319, -0.77307091, -1.26918412]])"
      ]
     },
     "execution_count": 48,
     "metadata": {},
     "output_type": "execute_result"
    }
   ],
   "source": [
    "B = ( A - A.mean( axis=0 ) ) / A.std( axis=0)\n",
    "B"
   ]
  },
  {
   "cell_type": "markdown",
   "id": "beb63ae3",
   "metadata": {},
   "source": [
    "<u>vérification</u> : somme des composantes de chaque vecteurs"
   ]
  },
  {
   "cell_type": "code",
   "execution_count": 51,
   "id": "ad4d0e9e",
   "metadata": {},
   "outputs": [
    {
     "name": "stdout",
     "output_type": "stream",
     "text": [
      "[-2.22044605e-17 -4.44089210e-17  0.00000000e+00 -1.22124533e-16\n",
      " -4.44089210e-17]\n",
      "[1. 1. 1. 1. 1.]\n"
     ]
    }
   ],
   "source": [
    "print(B.mean( axis=0 ))\n",
    "print(B.std( axis=0 ))"
   ]
  },
  {
   "cell_type": "code",
   "execution_count": null,
   "id": "93a01ec9",
   "metadata": {},
   "outputs": [],
   "source": []
  }
 ],
 "metadata": {
  "kernelspec": {
   "display_name": "Python 3 (ipykernel)",
   "language": "python",
   "name": "python3"
  },
  "language_info": {
   "codemirror_mode": {
    "name": "ipython",
    "version": 3
   },
   "file_extension": ".py",
   "mimetype": "text/x-python",
   "name": "python",
   "nbconvert_exporter": "python",
   "pygments_lexer": "ipython3",
   "version": "3.9.12"
  }
 },
 "nbformat": 4,
 "nbformat_minor": 5
}

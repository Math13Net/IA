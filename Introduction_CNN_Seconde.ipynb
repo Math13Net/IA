{
 "cells": [
  {
   "cell_type": "markdown",
   "id": "930259df",
   "metadata": {},
   "source": [
    "# **Introduction aux Réseaux Convolutifs (CNN)**"
   ]
  },
  {
   "cell_type": "markdown",
   "id": "3002eafd",
   "metadata": {},
   "source": [
    "\n",
    "Les réseaux convolutifs (CNN, *Convolutional Neural Networks*) sont spécialement conçus pour le traitement d'images. \n",
    "Ils permettent de capturer les relations spatiales entre les pixels, rendant ces modèles très efficaces pour des tâches comme la reconnaissance d'objets ou la classification d'images.\n",
    "\n",
    "Dans cette activité, nous allons :\n",
    "\n",
    "1. Découvrir les concepts de base des CNN.\n",
    "2. Construire un modèle CNN simple avec TensorFlow/Keras.\n",
    "3. Observer l'amélioration des performances par rapport au réseau dense précédent.\n"
   ]
  },
  {
   "cell_type": "markdown",
   "id": "cae6a2e7",
   "metadata": {},
   "source": [
    "## **1. Concepts de Base des CNN**"
   ]
  },
  {
   "cell_type": "markdown",
   "id": "3f41d6dc",
   "metadata": {},
   "source": [
    "\n",
    "Les CNN utilisent des opérations de convolution pour extraire des caractéristiques locales dans les images.\n",
    "\n",
    "- **Couches de Convolution :** Elles utilisent des filtres (ou *kernels*) pour détecter des motifs (bords, textures).\n",
    "- **Couches de Pooling :** Elles réduisent la taille des cartes de caractéristiques, rendant le réseau plus rapide et plus robuste.\n",
    "- **Couches denses :** Elles connectent toutes les caractéristiques extraites pour prendre des décisions finales.\n",
    "\n",
    "Nous allons maintenant appliquer ces concepts sur le jeu de données MNIST.\n"
   ]
  },
  {
   "cell_type": "markdown",
   "id": "7c648ce9",
   "metadata": {},
   "source": [
    "## **2. Chargement et Préparation des Données**"
   ]
  },
  {
   "cell_type": "code",
   "execution_count": null,
   "id": "742a806c",
   "metadata": {},
   "outputs": [],
   "source": [
    "\n",
    "# Import des bibliothèques\n",
    "from tensorflow.keras.datasets import mnist\n",
    "from tensorflow.keras.utils import to_categorical\n",
    "from tensorflow.keras.models import Sequential\n",
    "from tensorflow.keras.layers import Conv2D, MaxPooling2D, Flatten, Dense\n",
    "import matplotlib.pyplot as plt\n",
    "\n",
    "# Chargement des données\n",
    "(x_train, y_train), (x_test, y_test) = mnist.load_data()\n",
    "\n",
    "# Redimensionnement des données pour les CNN\n",
    "x_train = x_train.reshape(-1, 28, 28, 1) / 255.0\n",
    "x_test = x_test.reshape(-1, 28, 28, 1) / 255.0\n",
    "\n",
    "# Encodage des labels\n",
    "y_train = to_categorical(y_train, 10)\n",
    "y_test = to_categorical(y_test, 10)\n",
    "\n",
    "# Affichage de quelques images\n",
    "plt.figure(figsize=(10, 5))\n",
    "for i in range(6):\n",
    "    plt.subplot(2, 3, i + 1)\n",
    "    plt.imshow(x_train[i].reshape(28, 28), cmap='gray')\n",
    "    plt.title(f\"Label: {y_train[i].argmax()}\")\n",
    "    plt.axis('off')\n",
    "plt.show()\n"
   ]
  },
  {
   "cell_type": "markdown",
   "id": "80e219fd",
   "metadata": {},
   "source": [
    "## **3. Création d'un Modèle CNN**"
   ]
  },
  {
   "cell_type": "code",
   "execution_count": null,
   "id": "e7fca5cb",
   "metadata": {},
   "outputs": [],
   "source": [
    "\n",
    "# Construction d'un modèle CNN simple\n",
    "model = Sequential([\n",
    "    Conv2D(32, (3, 3), activation='relu', input_shape=(28, 28, 1)),  # Couche de convolution\n",
    "    MaxPooling2D((2, 2)),  # Couche de pooling\n",
    "    Conv2D(64, (3, 3), activation='relu'),  # Deuxième couche de convolution\n",
    "    MaxPooling2D((2, 2)),  # Deuxième couche de pooling\n",
    "    Flatten(),  # Mise à plat des caractéristiques\n",
    "    Dense(128, activation='relu'),  # Couche dense\n",
    "    Dense(10, activation='softmax')  # Couche de sortie\n",
    "])\n",
    "\n",
    "model.compile(optimizer='adam',\n",
    "              loss='categorical_crossentropy',\n",
    "              metrics=['accuracy'])\n",
    "\n",
    "model.summary()\n"
   ]
  },
  {
   "cell_type": "markdown",
   "id": "d77ad11f",
   "metadata": {},
   "source": [
    "## **4. Entraînement du Modèle CNN**"
   ]
  },
  {
   "cell_type": "code",
   "execution_count": null,
   "id": "4d10a0fb",
   "metadata": {},
   "outputs": [],
   "source": [
    "\n",
    "# Entraînement\n",
    "history = model.fit(x_train, y_train, epochs=5, validation_split=0.2)\n"
   ]
  },
  {
   "cell_type": "markdown",
   "id": "a111cdfc",
   "metadata": {},
   "source": [
    "## **5. Visualisation des Performances**"
   ]
  },
  {
   "cell_type": "code",
   "execution_count": null,
   "id": "7d6bfa6b",
   "metadata": {},
   "outputs": [],
   "source": [
    "\n",
    "# Visualisation des courbes d'apprentissage\n",
    "plt.plot(history.history['accuracy'], label='Précision Entraînement')\n",
    "plt.plot(history.history['val_accuracy'], label='Précision Validation')\n",
    "plt.xlabel('Époques')\n",
    "plt.ylabel('Précision')\n",
    "plt.legend()\n",
    "plt.show()\n"
   ]
  },
  {
   "cell_type": "markdown",
   "id": "a52bd63b",
   "metadata": {},
   "source": [
    "## **6. Évaluation et Tests**"
   ]
  },
  {
   "cell_type": "code",
   "execution_count": null,
   "id": "040ed837",
   "metadata": {},
   "outputs": [],
   "source": [
    "\n",
    "# Évaluation sur les données de test\n",
    "test_loss, test_acc = model.evaluate(x_test, y_test)\n",
    "print(f\"Précision sur les données de test : {test_acc:.2f}\")\n"
   ]
  },
  {
   "cell_type": "markdown",
   "id": "0d7f6d7d",
   "metadata": {},
   "source": [
    "## **7. Visualisation des Prédictions**"
   ]
  },
  {
   "cell_type": "code",
   "execution_count": null,
   "id": "715a032f",
   "metadata": {},
   "outputs": [],
   "source": [
    "\n",
    "# Prédictions sur les premières images de test\n",
    "predictions = model.predict(x_test[:5])\n",
    "\n",
    "# Affichage des résultats\n",
    "for i in range(5):\n",
    "    plt.imshow(x_test[i].reshape(28, 28), cmap='gray')\n",
    "    plt.title(f\"Prediction: {predictions[i].argmax()}\")\n",
    "    plt.axis('off')\n",
    "    plt.show()\n"
   ]
  },
  {
   "cell_type": "markdown",
   "id": "75839508",
   "metadata": {},
   "source": [
    "## **8. Conclusion**"
   ]
  },
  {
   "cell_type": "markdown",
   "id": "385bb9f2",
   "metadata": {},
   "source": [
    "\n",
    "Les réseaux convolutifs (CNN) permettent d'améliorer significativement les performances sur des tâches de classification d'images. Leur capacité à capturer des caractéristiques locales en fait un outil puissant pour l'analyse d'images.\n",
    "\n",
    "Prochaines étapes :\n",
    "1. Explorer des jeux de données plus complexes (par ex. CIFAR-10).\n",
    "2. Expérimenter avec des architectures plus avancées (ResNet, VGG, etc.).\n"
   ]
  }
 ],
 "metadata": {},
 "nbformat": 4,
 "nbformat_minor": 5
}

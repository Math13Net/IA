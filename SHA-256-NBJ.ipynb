{
 "cells": [
  {
   "cell_type": "markdown",
   "id": "26614e18",
   "metadata": {},
   "source": [
    "# Introduction au hachage cryptographique\n",
    "## Expérimentation d'une fonction de hachage simple"
   ]
  },
  {
   "cell_type": "code",
   "execution_count": 12,
   "id": "908b5339",
   "metadata": {},
   "outputs": [
    {
     "name": "stdout",
     "output_type": "stream",
     "text": [
      "AB → 131\n",
      "BA → 131\n",
      "Hello → 244\n",
      "hello → 20\n",
      "Test → 160\n",
      "tEst → 160\n"
     ]
    }
   ],
   "source": [
    "def simple_hash(text):\n",
    "    return sum(ord(char) for char in text) % 256\n",
    "\n",
    "tests = [\"AB\", \"BA\", \"Hello\", \"hello\", \"Test\", \"tEst\"]\n",
    "for word in tests:\n",
    "    print(f\"{word} → {simple_hash(word)}\")"
   ]
  },
  {
   "cell_type": "markdown",
   "id": "c684792d",
   "metadata": {},
   "source": [
    "# SHA-256 : Fonctionnement et découverte"
   ]
  },
  {
   "cell_type": "code",
   "execution_count": 13,
   "id": "b0171088",
   "metadata": {},
   "outputs": [
    {
     "name": "stdout",
     "output_type": "stream",
     "text": [
      "... → ab5df625bc76dbd4e163bed2dd888df828f90159bb93556525c31821b6541d46\n",
      "... → ab5df625bc76dbd4e163bed2dd888df828f90159bb93556525c31821b6541d46\n",
      "... → ab5df625bc76dbd4e163bed2dd888df828f90159bb93556525c31821b6541d46\n",
      "... → ab5df625bc76dbd4e163bed2dd888df828f90159bb93556525c31821b6541d46\n",
      "... → ab5df625bc76dbd4e163bed2dd888df828f90159bb93556525c31821b6541d46\n"
     ]
    }
   ],
   "source": [
    "import hashlib\n",
    "\n",
    "def sha256_hash(text):\n",
    "    return hashlib.sha256(text.encode()).hexdigest()\n",
    "\n",
    "texts = [\"...\", \"...\", \"...\", \"...\", \"...\"]\n",
    "for text in texts:\n",
    "    print(f\"{text} → {sha256_hash(text)}\")"
   ]
  },
  {
   "cell_type": "markdown",
   "id": "911ea8c9",
   "metadata": {},
   "source": [
    "# L'énigme 'Route 666' et la combinatoire\n",
    "## Recherche d'un numéro de téléphone à partir de son hash SHA-256"
   ]
  },
  {
   "cell_type": "code",
   "execution_count": 15,
   "id": "f273a3a2",
   "metadata": {},
   "outputs": [
    {
     "name": "stdout",
     "output_type": "stream",
     "text": [
      "Numéro trouvé : 0015556664311\n",
      "Temps pour 4 chiffres : 0.00619 secondes\n"
     ]
    }
   ],
   "source": [
    "import time\n",
    "\n",
    "def brute_force_attack(n, hash_target):\n",
    "    start_time = time.time()\n",
    "    for i in range(10**n):\n",
    "        numero = f\"001555666{i:0{n}d}\"\n",
    "        if sha256_hash(numero) == hash_target:\n",
    "            print(f\"Numéro trouvé : {numero}\")\n",
    "            break\n",
    "    end_time = time.time()\n",
    "    return end_time - start_time\n",
    "\n",
    "hash_cible = \"9dd8646d336e4dc5b08b5f15e3fe6980e645f1f96e79862b54460e4d21287819\"\n",
    "for digits in range(4,5):\n",
    "    t = brute_force_attack(digits, hash_cible)\n",
    "    print(f\"Temps pour {digits} chiffres : {t:.5f} secondes\")"
   ]
  },
  {
   "cell_type": "code",
   "execution_count": null,
   "id": "0f03fef2",
   "metadata": {},
   "outputs": [],
   "source": []
  }
 ],
 "metadata": {
  "kernelspec": {
   "display_name": "Python 3 (ipykernel)",
   "language": "python",
   "name": "python3"
  },
  "language_info": {
   "codemirror_mode": {
    "name": "ipython",
    "version": 3
   },
   "file_extension": ".py",
   "mimetype": "text/x-python",
   "name": "python",
   "nbconvert_exporter": "python",
   "pygments_lexer": "ipython3",
   "version": "3.9.18"
  }
 },
 "nbformat": 4,
 "nbformat_minor": 5
}

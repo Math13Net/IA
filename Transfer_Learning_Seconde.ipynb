{
 "cells": [
  {
   "cell_type": "markdown",
   "id": "0a62c930",
   "metadata": {},
   "source": [
    "\n",
    "# **TP3 : Transfert d’Apprentissage**\n",
    "Dans ce TP, nous explorons la technique de transfert d’apprentissage (*Transfer Learning*). Cela consiste à réutiliser un modèle pré-entraîné sur un problème similaire pour résoudre une nouvelle tâche.\n",
    "\n",
    "### **Objectifs**\n",
    "1. Comprendre le concept de transfert d'apprentissage.\n",
    "2. Utiliser un modèle pré-entraîné (MobileNetV2).\n",
    "3. Adapter ce modèle pour classifier les images du jeu de données CIFAR-10.\n",
    "\n",
    "Le transfert d'apprentissage permet de gagner du temps et des ressources tout en obtenant de meilleures performances, même avec peu de données.\n"
   ]
  },
  {
   "cell_type": "markdown",
   "id": "a32498a8",
   "metadata": {},
   "source": [
    "\n",
    "## **1. Chargement et Préparation des Données**\n",
    "Nous allons utiliser le jeu de données CIFAR-10, qui contient 60 000 images classées en 10 catégories :\n",
    "- Avion, Automobile, Oiseau, Chat, Cerf, Chien, Grenouille, Cheval, Bateau, Camion.\n"
   ]
  },
  {
   "cell_type": "code",
   "execution_count": null,
   "id": "4397eaef",
   "metadata": {},
   "outputs": [],
   "source": [
    "\n",
    "# Import des bibliothèques nécessaires\n",
    "import tensorflow as tf\n",
    "from tensorflow.keras.datasets import cifar10\n",
    "from tensorflow.keras.applications import MobileNetV2\n",
    "from tensorflow.keras.models import Sequential\n",
    "from tensorflow.keras.layers import Dense, GlobalAveragePooling2D\n",
    "import matplotlib.pyplot as plt\n",
    "\n",
    "# Chargement des données CIFAR-10\n",
    "(x_train, y_train), (x_test, y_test) = cifar10.load_data()\n",
    "\n",
    "# Normalisation des images\n",
    "x_train = x_train / 255.0\n",
    "x_test = x_test / 255.0\n",
    "\n",
    "# Encodage des labels en one-hot\n",
    "y_train = tf.keras.utils.to_categorical(y_train, 10)\n",
    "y_test = tf.keras.utils.to_categorical(y_test, 10)\n",
    "\n",
    "# Affichage de quelques exemples\n",
    "classes = ['Avion', 'Automobile', 'Oiseau', 'Chat', 'Cerf', 'Chien', 'Grenouille', 'Cheval', 'Bateau', 'Camion']\n",
    "plt.figure(figsize=(10, 5))\n",
    "for i in range(6):\n",
    "    plt.subplot(2, 3, i + 1)\n",
    "    plt.imshow(x_train[i])\n",
    "    plt.title(f\"Classe : {classes[y_train[i].argmax()]}\")\n",
    "    plt.axis('off')\n",
    "plt.show()\n"
   ]
  },
  {
   "cell_type": "markdown",
   "id": "1708af6d",
   "metadata": {},
   "source": [
    "\n",
    "## **2. Chargement d’un Modèle Pré-entraîné**\n",
    "Nous utilisons MobileNetV2, un modèle pré-entraîné sur ImageNet.\n"
   ]
  },
  {
   "cell_type": "code",
   "execution_count": null,
   "id": "a17c8e91",
   "metadata": {},
   "outputs": [],
   "source": [
    "\n",
    "# Chargement de MobileNetV2 pré-entraîné\n",
    "base_model = MobileNetV2(input_shape=(32, 32, 3), include_top=False, weights='imagenet')\n",
    "\n",
    "# Geler les couches du modèle pré-entraîné\n",
    "base_model.trainable = False\n",
    "\n",
    "# Ajout de nouvelles couches pour la classification\n",
    "model = Sequential([\n",
    "    base_model,\n",
    "    GlobalAveragePooling2D(),  # Réduction de la dimension des caractéristiques\n",
    "    Dense(128, activation='relu'),  # Couche dense\n",
    "    Dense(10, activation='softmax')  # Couche de sortie pour 10 classes\n",
    "])\n",
    "\n",
    "model.compile(optimizer='adam', loss='categorical_crossentropy', metrics=['accuracy'])\n",
    "\n",
    "# Résumé du modèle\n",
    "model.summary()\n"
   ]
  },
  {
   "cell_type": "markdown",
   "id": "4b4a450c",
   "metadata": {},
   "source": [
    "\n",
    "## **3. Entraînement du Modèle**\n",
    "Nous entraînons uniquement les couches ajoutées pour adapter MobileNetV2 au jeu de données CIFAR-10.\n"
   ]
  },
  {
   "cell_type": "code",
   "execution_count": null,
   "id": "fcf938de",
   "metadata": {},
   "outputs": [],
   "source": [
    "\n",
    "# Entraînement du modèle\n",
    "history = model.fit(x_train, y_train, epochs=5, validation_split=0.2)\n"
   ]
  },
  {
   "cell_type": "markdown",
   "id": "f4c0dae6",
   "metadata": {},
   "source": [
    "\n",
    "## **4. Visualisation des Performances**\n",
    "Observons l'évolution de la précision et de la perte pendant l'entraînement.\n"
   ]
  },
  {
   "cell_type": "code",
   "execution_count": null,
   "id": "45e1de44",
   "metadata": {},
   "outputs": [],
   "source": [
    "\n",
    "# Visualisation des courbes d'entraînement\n",
    "plt.plot(history.history['accuracy'], label='Précision Entraînement')\n",
    "plt.plot(history.history['val_accuracy'], label='Précision Validation')\n",
    "plt.xlabel('Époques')\n",
    "plt.ylabel('Précision')\n",
    "plt.legend()\n",
    "plt.show()\n"
   ]
  },
  {
   "cell_type": "markdown",
   "id": "38e466eb",
   "metadata": {},
   "source": [
    "\n",
    "## **5. Évaluation sur les Données de Test**\n",
    "Nous évaluons les performances du modèle sur les données de test.\n"
   ]
  },
  {
   "cell_type": "code",
   "execution_count": null,
   "id": "39c426c4",
   "metadata": {},
   "outputs": [],
   "source": [
    "\n",
    "# Évaluation sur les données de test\n",
    "test_loss, test_acc = model.evaluate(x_test, y_test)\n",
    "print(f\"Précision sur les données de test : {test_acc:.2f}\")\n"
   ]
  },
  {
   "cell_type": "markdown",
   "id": "3aaf537c",
   "metadata": {},
   "source": [
    "\n",
    "## **6. Visualisation des Prédictions**\n",
    "Affichons les prédictions pour quelques images.\n"
   ]
  },
  {
   "cell_type": "code",
   "execution_count": null,
   "id": "a77e1e79",
   "metadata": {},
   "outputs": [],
   "source": [
    "\n",
    "# Prédictions sur les premières images de test\n",
    "predictions = model.predict(x_test[:5])\n",
    "\n",
    "# Affichage des résultats\n",
    "for i in range(5):\n",
    "    plt.imshow(x_test[i])\n",
    "    plt.title(f\"Prediction: {classes[predictions[i].argmax()]}\")\n",
    "    plt.axis('off')\n",
    "    plt.show()\n"
   ]
  },
  {
   "cell_type": "markdown",
   "id": "ea7289e7",
   "metadata": {},
   "source": [
    "\n",
    "## **7. Discussion et Questions**\n",
    "### Biais dans les Modèles Pré-entraînés\n",
    "MobileNetV2 a été pré-entraîné sur ImageNet, qui contient des biais liés aux données utilisées. \n",
    "- Les images proviennent majoritairement de contextes occidentaux.\n",
    "- Certaines catégories sont sous-représentées.\n",
    "\n",
    "**Questions** :\n",
    "1. Quels sont les impacts possibles de ces biais sur des applications spécifiques (par ex. médicales) ?\n",
    "2. Comment minimiser ces biais dans le transfert d'apprentissage ?\n",
    "\n",
    "**Exercice :** Remplacez MobileNetV2 par un autre modèle pré-entraîné (par ex. ResNet50 ou InceptionV3) et comparez les résultats.\n"
   ]
  }
 ],
 "metadata": {},
 "nbformat": 4,
 "nbformat_minor": 5
}

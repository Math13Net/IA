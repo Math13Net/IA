{
 "cells": [
  {
   "cell_type": "markdown",
   "id": "cae4530c",
   "metadata": {},
   "source": [
    "# CHALLENGE"
   ]
  },
  {
   "cell_type": "markdown",
   "id": "f06ec1d0",
   "metadata": {},
   "source": [
    "pour chaque challenge, remplacer les ... par un programme python qui fonctionne"
   ]
  },
  {
   "cell_type": "markdown",
   "id": "019226f4",
   "metadata": {},
   "source": [
    "## Chalenge 1 - afficher le contenu d'une variable"
   ]
  },
  {
   "cell_type": "markdown",
   "id": "bdf38934",
   "metadata": {},
   "source": [
    "mettre le nombre 13 dans une variable a puis afficher la valeur de la variable a"
   ]
  },
  {
   "cell_type": "code",
   "execution_count": null,
   "id": "a847df7c",
   "metadata": {},
   "outputs": [],
   "source": [
    "..."
   ]
  },
  {
   "cell_type": "markdown",
   "id": "3c2cd36d",
   "metadata": {},
   "source": [
    "## Chalenge 2 - faire des calculs avec des variables et afficher le résultat"
   ]
  },
  {
   "cell_type": "code",
   "execution_count": null,
   "id": "5dc0d0f1",
   "metadata": {},
   "outputs": [],
   "source": [
    "mettre la variable a à 8 et la variable b à 22 ; afficher la somme et le produit de a et b"
   ]
  },
  {
   "cell_type": "code",
   "execution_count": null,
   "id": "d38ada00",
   "metadata": {},
   "outputs": [],
   "source": [
    "..."
   ]
  },
  {
   "cell_type": "markdown",
   "id": "534b0fb5",
   "metadata": {},
   "source": [
    "## Chalenge 3 - utiliser le module math"
   ]
  },
  {
   "cell_type": "code",
   "execution_count": null,
   "id": "b7ecbc63",
   "metadata": {},
   "outputs": [],
   "source": [
    "grâce au module math, afficher la valeur de pi, racine de 2 et cosinus de 60 degré"
   ]
  },
  {
   "cell_type": "code",
   "execution_count": 3,
   "id": "8bcbe4d5",
   "metadata": {},
   "outputs": [],
   "source": [
    "from math import *\n",
    "..."
   ]
  },
  {
   "cell_type": "markdown",
   "id": "636fe5d8",
   "metadata": {},
   "source": [
    "## Chalenge 4 - utiliser le module fraction"
   ]
  },
  {
   "cell_type": "code",
   "execution_count": 5,
   "id": "e00e64a9",
   "metadata": {},
   "outputs": [
    {
     "name": "stdout",
     "output_type": "stream",
     "text": [
      "4/5\n",
      "4\n",
      "5\n"
     ]
    }
   ],
   "source": [
    "from fractions import *\n",
    "F = Fraction(4,5)\n",
    "num = F.numerator\n",
    "denom = F.denominator\n",
    "print(F)\n",
    "print(num)\n",
    "print(denom)"
   ]
  },
  {
   "attachments": {
    "fraction.png": {
     "image/png": "[encoded data removed]"
    }
   },
   "cell_type": "markdown",
   "id": "a704587b",
   "metadata": {},
   "source": [
    "challenge : grâce au module Fraction, calculer ![fraction.png](attachment:fraction.png) puis vérifier le résultat avec votre calculatrice"
   ]
  },
  {
   "cell_type": "code",
   "execution_count": null,
   "id": "6473f4d8",
   "metadata": {},
   "outputs": [],
   "source": [
    "A = ..."
   ]
  },
  {
   "cell_type": "markdown",
   "id": "4d2fd804",
   "metadata": {},
   "source": [
    "## Chalenge 5 - demander une information à l'utilisateur"
   ]
  },
  {
   "cell_type": "code",
   "execution_count": 4,
   "id": "be6a86ed",
   "metadata": {},
   "outputs": [
    {
     "name": "stdout",
     "output_type": "stream",
     "text": [
      "Choisissez un nombre entier\n",
      "12\n"
     ]
    }
   ],
   "source": [
    "print(\"Choisissez un nombre entier\")\n",
    "n = int(input())"
   ]
  },
  {
   "cell_type": "markdown",
   "id": "16027b79",
   "metadata": {},
   "source": [
    "challenge : demander à un utilisateur spn prénom et son age puis afficher une phrase qui contient ces informations"
   ]
  },
  {
   "cell_type": "code",
   "execution_count": null,
   "id": "fbf4fbcf",
   "metadata": {},
   "outputs": [],
   "source": []
  },
  {
   "cell_type": "markdown",
   "id": "00edc786",
   "metadata": {},
   "source": [
    "## Chalenge 6 - triangle"
   ]
  },
  {
   "cell_type": "markdown",
   "id": "0924abc7",
   "metadata": {},
   "source": [
    "faire un programme qui demande 3 nombres entiers et qui vérifie si on peut construire un triangle avec"
   ]
  },
  {
   "cell_type": "code",
   "execution_count": null,
   "id": "9a8813de",
   "metadata": {},
   "outputs": [],
   "source": [
    "...."
   ]
  },
  {
   "cell_type": "markdown",
   "id": "99451591",
   "metadata": {},
   "source": [
    "## Chalenge 7 - pythagore"
   ]
  },
  {
   "cell_type": "markdown",
   "id": "a4eeb100",
   "metadata": {},
   "source": [
    "faire un programme qui demande 3 nombres entiers et qui vérifie si le triangle associé est rectangle"
   ]
  },
  {
   "cell_type": "code",
   "execution_count": null,
   "id": "0bbcd2ce",
   "metadata": {},
   "outputs": [],
   "source": [
    "..."
   ]
  }
 ],
 "metadata": {
  "kernelspec": {
   "display_name": "Python 3 (ipykernel)",
   "language": "python",
   "name": "python3"
  },
  "language_info": {
   "codemirror_mode": {
    "name": "ipython",
    "version": 3
   },
   "file_extension": ".py",
   "mimetype": "text/x-python",
   "name": "python",
   "nbconvert_exporter": "python",
   "pygments_lexer": "ipython3",
   "version": "3.9.18"
  }
 },
 "nbformat": 4,
 "nbformat_minor": 5
}

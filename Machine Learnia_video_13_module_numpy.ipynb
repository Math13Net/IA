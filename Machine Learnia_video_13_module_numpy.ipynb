{
 "cells": [
  {
   "cell_type": "markdown",
   "id": "481a05ff",
   "metadata": {},
   "source": [
    "# module Numpy"
   ]
  },
  {
   "cell_type": "markdown",
   "id": "9c314352",
   "metadata": {},
   "source": [
    "## machine learnia_video 13\n",
    "https://youtu.be/lIESSFHGalA"
   ]
  },
  {
   "cell_type": "code",
   "execution_count": 1,
   "id": "8a0f7e7c",
   "metadata": {},
   "outputs": [],
   "source": [
    "import numpy as np"
   ]
  },
  {
   "cell_type": "code",
   "execution_count": 2,
   "id": "b53de721",
   "metadata": {},
   "outputs": [],
   "source": [
    "np.random.seed(0)\n",
    "A = np.random.randint(0, 10, [2,3])\n",
    "B = np.ones([2,3])"
   ]
  },
  {
   "cell_type": "code",
   "execution_count": 6,
   "id": "974224f7",
   "metadata": {},
   "outputs": [
    {
     "data": {
      "text/plain": [
       "array([[5, 0, 3],\n",
       "       [3, 7, 9]])"
      ]
     },
     "execution_count": 6,
     "metadata": {},
     "output_type": "execute_result"
    }
   ],
   "source": [
    "A"
   ]
  },
  {
   "cell_type": "code",
   "execution_count": 4,
   "id": "dca5c85b",
   "metadata": {},
   "outputs": [
    {
     "data": {
      "text/plain": [
       "array([[1., 1., 1.],\n",
       "       [1., 1., 1.]])"
      ]
     },
     "execution_count": 4,
     "metadata": {},
     "output_type": "execute_result"
    }
   ],
   "source": [
    "B"
   ]
  },
  {
   "cell_type": "code",
   "execution_count": 7,
   "id": "bba61adb",
   "metadata": {},
   "outputs": [
    {
     "data": {
      "text/plain": [
       "array([[ 6.,  1.,  4.],\n",
       "       [ 4.,  8., 10.]])"
      ]
     },
     "execution_count": 7,
     "metadata": {},
     "output_type": "execute_result"
    }
   ],
   "source": [
    "C = A + B\n",
    "C"
   ]
  },
  {
   "cell_type": "markdown",
   "id": "2ee41d34",
   "metadata": {},
   "source": [
    "## broacasting (extention des dimentions)"
   ]
  },
  {
   "cell_type": "code",
   "execution_count": 20,
   "id": "6677b2db",
   "metadata": {},
   "outputs": [],
   "source": [
    "import numpy as np\n",
    "np.random.seed(0)\n",
    "A = np.random.randint(0, 10, [2,3])"
   ]
  },
  {
   "cell_type": "code",
   "execution_count": 21,
   "id": "e6e16960",
   "metadata": {},
   "outputs": [
    {
     "data": {
      "text/plain": [
       "array([[ 7,  2,  5],\n",
       "       [ 5,  9, 11]])"
      ]
     },
     "execution_count": 21,
     "metadata": {},
     "output_type": "execute_result"
    }
   ],
   "source": [
    "A+2"
   ]
  },
  {
   "cell_type": "code",
   "execution_count": 33,
   "id": "e93119cd",
   "metadata": {},
   "outputs": [],
   "source": [
    "B = np.ones([2,1])\n",
    "C = np.ones([1,3])"
   ]
  },
  {
   "cell_type": "code",
   "execution_count": 34,
   "id": "0f735ef8",
   "metadata": {},
   "outputs": [
    {
     "name": "stdout",
     "output_type": "stream",
     "text": [
      "[[ 6.  1.  4.]\n",
      " [ 4.  8. 10.]]\n",
      "\n",
      "[[ 6.  1.  4.]\n",
      " [ 4.  8. 10.]]\n"
     ]
    }
   ],
   "source": [
    "print(A+B)\n",
    "print()\n",
    "print(A+C)"
   ]
  },
  {
   "cell_type": "code",
   "execution_count": 24,
   "id": "790ab0cb",
   "metadata": {},
   "outputs": [
    {
     "data": {
      "text/plain": [
       "array([[1., 1.],\n",
       "       [1., 1.]])"
      ]
     },
     "execution_count": 24,
     "metadata": {},
     "output_type": "execute_result"
    }
   ],
   "source": [
    "B = np.ones([2,2])\n",
    "B"
   ]
  },
  {
   "cell_type": "code",
   "execution_count": 25,
   "id": "125d7cae",
   "metadata": {},
   "outputs": [
    {
     "ename": "ValueError",
     "evalue": "operands could not be broadcast together with shapes (2,3) (2,2) ",
     "output_type": "error",
     "traceback": [
      "\u001b[1;31m---------------------------------------------------------------------------\u001b[0m",
      "\u001b[1;31mValueError\u001b[0m                                Traceback (most recent call last)",
      "Input \u001b[1;32mIn [25]\u001b[0m, in \u001b[0;36m<cell line: 1>\u001b[1;34m()\u001b[0m\n\u001b[1;32m----> 1\u001b[0m \u001b[43mA\u001b[49m\u001b[38;5;241;43m+\u001b[39;49m\u001b[43mB\u001b[49m\n",
      "\u001b[1;31mValueError\u001b[0m: operands could not be broadcast together with shapes (2,3) (2,2) "
     ]
    }
   ],
   "source": [
    "A+B"
   ]
  },
  {
   "cell_type": "markdown",
   "id": "f689946e",
   "metadata": {},
   "source": [
    "<u>explication des règles du broacasting :</u>\n",
    "* soit les dimensions sont égales\n",
    "* soit les dimensions respectives sont égales à 1"
   ]
  },
  {
   "cell_type": "code",
   "execution_count": 35,
   "id": "8137c10e",
   "metadata": {},
   "outputs": [
    {
     "data": {
      "text/plain": [
       "array([[10,  9, 11],\n",
       "       [12, 11, 13],\n",
       "       [ 9,  8, 10],\n",
       "       [11, 10, 12]])"
      ]
     },
     "execution_count": 35,
     "metadata": {},
     "output_type": "execute_result"
    }
   ],
   "source": [
    "A = np.random.randint(0, 10, [4,1])\n",
    "B = np.random.randint(0, 10, [1,3])\n",
    "A+B"
   ]
  },
  {
   "cell_type": "markdown",
   "id": "d287b994",
   "metadata": {},
   "source": [
    "<u>conseil :</u> si les dimensions sont incomplètes, penser à les compléter avec la fonctions reshape\\\n",
    "voici un contre-ex dangereux"
   ]
  },
  {
   "cell_type": "code",
   "execution_count": 36,
   "id": "055902ad",
   "metadata": {},
   "outputs": [
    {
     "name": "stdout",
     "output_type": "stream",
     "text": [
      "shape A= (10, 1) et shape B = (10,)\n"
     ]
    }
   ],
   "source": [
    "A = np.random.randint(0, 10, [10,1])\n",
    "B = np.random.randint(0, 10, [10,1])\n",
    "B = B.reshape(B.shape[0],)\n",
    "print(f\"shape A= {A.shape} et shape B = {B.shape}\")"
   ]
  },
  {
   "cell_type": "markdown",
   "id": "8a495118",
   "metadata": {},
   "source": [
    "voici le problème : B a été applati ..."
   ]
  },
  {
   "cell_type": "code",
   "execution_count": 40,
   "id": "4b1be2c5",
   "metadata": {},
   "outputs": [
    {
     "name": "stdout",
     "output_type": "stream",
     "text": [
      "[[-1  4  5  8  5  3  8  6  5  0]\n",
      " [-8 -3 -2  1 -2 -4  1 -1 -2 -7]\n",
      " [-3  2  3  6  3  1  6  4  3 -2]\n",
      " [-2  3  4  7  4  2  7  5  4 -1]\n",
      " [-2  3  4  7  4  2  7  5  4 -1]\n",
      " [-1  4  5  8  5  3  8  6  5  0]\n",
      " [-8 -3 -2  1 -2 -4  1 -1 -2 -7]\n",
      " [-4  1  2  5  2  0  5  3  2 -3]\n",
      " [ 0  5  6  9  6  4  9  7  6  1]\n",
      " [-1  4  5  8  5  3  8  6  5  0]]\n",
      "(10, 10)\n"
     ]
    }
   ],
   "source": [
    "print(A-B)\n",
    "print((A-B).shape)"
   ]
  },
  {
   "cell_type": "code",
   "execution_count": 41,
   "id": "c0ec3f1a",
   "metadata": {},
   "outputs": [
    {
     "name": "stdout",
     "output_type": "stream",
     "text": [
      "[[-3]\n",
      " [-4]\n",
      " [ 0]\n",
      " [ 1]\n",
      " [ 0]\n",
      " [-2]\n",
      " [ 1]\n",
      " [ 9]\n",
      " [ 5]\n",
      " [-5]]\n",
      "(10, 1)\n"
     ]
    }
   ],
   "source": [
    "A = np.random.randint(0, 10, [10,1])\n",
    "B = np.random.randint(0, 10, [10,1])\n",
    "print(A-B)\n",
    "print((A-B).shape)"
   ]
  }
 ],
 "metadata": {
  "kernelspec": {
   "display_name": "Python 3 (ipykernel)",
   "language": "python",
   "name": "python3"
  },
  "language_info": {
   "codemirror_mode": {
    "name": "ipython",
    "version": 3
   },
   "file_extension": ".py",
   "mimetype": "text/x-python",
   "name": "python",
   "nbconvert_exporter": "python",
   "pygments_lexer": "ipython3",
   "version": "3.9.12"
  }
 },
 "nbformat": 4,
 "nbformat_minor": 5
}

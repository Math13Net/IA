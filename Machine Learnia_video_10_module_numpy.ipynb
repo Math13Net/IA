{
 "cells": [
  {
   "cell_type": "markdown",
   "id": "481a05ff",
   "metadata": {},
   "source": [
    "# module Numpy"
   ]
  },
  {
   "cell_type": "markdown",
   "id": "9c314352",
   "metadata": {},
   "source": [
    "## machine learnia_video 10\n",
    "https://youtu.be/NzDQTrqsxas"
   ]
  },
  {
   "cell_type": "code",
   "execution_count": 1,
   "id": "8a0f7e7c",
   "metadata": {},
   "outputs": [],
   "source": [
    "import numpy as np"
   ]
  },
  {
   "cell_type": "code",
   "execution_count": 9,
   "id": "b53de721",
   "metadata": {},
   "outputs": [
    {
     "name": "stdout",
     "output_type": "stream",
     "text": [
      "[[1 2 3 4]\n",
      " [5 6 7 8]] est de type <class 'numpy.ndarray'>\n",
      "[[1 2 3 4]\n",
      " [5 6 7 8]] est de dimension 2, de forme (2, 4), de taille 8\n"
     ]
    }
   ],
   "source": [
    "t = np.array([[1, 2, 3, 4], [5, 6, 7, 8]])\n",
    "print(f\"{t} est de type {type(t)}\")\n",
    "print(f\"{t} est de dimension {t.ndim}, de forme {t.shape}, de taille {t.size}\")"
   ]
  },
  {
   "cell_type": "code",
   "execution_count": 11,
   "id": "f1edc0c7",
   "metadata": {},
   "outputs": [
    {
     "name": "stdout",
     "output_type": "stream",
     "text": [
      "[[0. 0. 0. 0.]\n",
      " [0. 0. 0. 0.]\n",
      " [0. 0. 0. 0.]]\n"
     ]
    }
   ],
   "source": [
    "t_0 = np.zeros((3,4))   # attention shape est un tuple\n",
    "print(t_0)"
   ]
  },
  {
   "cell_type": "code",
   "execution_count": 12,
   "id": "3768f9f9",
   "metadata": {},
   "outputs": [
    {
     "name": "stdout",
     "output_type": "stream",
     "text": [
      "[[1. 1. 1. 1.]\n",
      " [1. 1. 1. 1.]\n",
      " [1. 1. 1. 1.]]\n"
     ]
    }
   ],
   "source": [
    "t_1 = np.ones((3,4))   # attention shape est un tuple\n",
    "print(t_1)"
   ]
  },
  {
   "cell_type": "code",
   "execution_count": 16,
   "id": "ab51bb4d",
   "metadata": {},
   "outputs": [
    {
     "name": "stdout",
     "output_type": "stream",
     "text": [
      "[[2 2 2]\n",
      " [2 2 2]\n",
      " [2 2 2]\n",
      " [2 2 2]]\n"
     ]
    }
   ],
   "source": [
    "t_valeur = np.full((4,3),2)   # attention shape est un tuple\n",
    "print(t_valeur)"
   ]
  },
  {
   "cell_type": "code",
   "execution_count": 28,
   "id": "000bc494",
   "metadata": {},
   "outputs": [
    {
     "name": "stdout",
     "output_type": "stream",
     "text": [
      "[[ 0.34900258 -1.85851316 -1.16718189  1.42489683]\n",
      " [ 1.49656536  1.28993206 -1.81174527 -1.49830721]\n",
      " [-1.45014322 -1.69390696  0.22726403 -0.48973471]]\n"
     ]
    }
   ],
   "source": [
    "t_rand = np.random.randn(3,4)   # attention PAS de tuple ici\n",
    "print(t_rand)"
   ]
  },
  {
   "cell_type": "code",
   "execution_count": 26,
   "id": "abefc582",
   "metadata": {},
   "outputs": [
    {
     "name": "stdout",
     "output_type": "stream",
     "text": [
      "[[-0.31232848  0.33928471 -0.15590853 -0.50178967]\n",
      " [ 0.23556889 -1.76360526 -1.09586204 -1.08776574]\n",
      " [-0.30517005 -0.47374837 -0.20059454  0.35519677]]\n"
     ]
    }
   ],
   "source": [
    "np.random.seed(15)              # variantes : si on choisit la seed, les nombres restent identiques (en relançant)\n",
    "t_rand_fixe = np.random.randn(3,4)   # attention PAS de tuple ici\n",
    "print(t_rand_fixe)"
   ]
  },
  {
   "cell_type": "code",
   "execution_count": 29,
   "id": "62c0fb2d",
   "metadata": {},
   "outputs": [
    {
     "name": "stdout",
     "output_type": "stream",
     "text": [
      "[[1. 0. 0. 0.]\n",
      " [0. 1. 0. 0.]\n",
      " [0. 0. 1. 0.]\n",
      " [0. 0. 0. 1.]]\n"
     ]
    }
   ],
   "source": [
    "t_Id = np.eye(4)\n",
    "print(t_Id)"
   ]
  },
  {
   "cell_type": "code",
   "execution_count": 36,
   "id": "ac0458bf",
   "metadata": {},
   "outputs": [
    {
     "name": "stdout",
     "output_type": "stream",
     "text": [
      "[ 0.          3.33333333  6.66666667 10.        ] est de taille 4\n",
      "[0 3 6 9] est de taille 4\n"
     ]
    }
   ],
   "source": [
    "# utilie pour matplotlib\n",
    "t_nbe_de_valeur = np.linspace(0, 10, 4)\n",
    "t_espacement_regulier = np.arange(0,10,3)\n",
    "print(f\"{t_nbe_de_valeur} est de taille {t_nbe_de_valeur.size}\")\n",
    "print(f\"{t_espacement_regulier} est de taille {t_espacement_regulier.size}\")"
   ]
  },
  {
   "cell_type": "code",
   "execution_count": 39,
   "id": "b144a1a6",
   "metadata": {},
   "outputs": [
    {
     "name": "stdout",
     "output_type": "stream",
     "text": [
      "[[0. 0. 0.]\n",
      " [0. 0. 0.]\n",
      " [0. 0. 0.]\n",
      " [0. 0. 0.]\n",
      " [1. 1. 1.]\n",
      " [1. 1. 1.]\n",
      " [1. 1. 1.]]\n"
     ]
    }
   ],
   "source": [
    "t_1 = np.zeros((4,3))\n",
    "t_2 = np.ones((3,3))\n",
    "t = np.concatenate((t_1, t_2), axis = 0)\n",
    "print(t)"
   ]
  },
  {
   "cell_type": "code",
   "execution_count": 43,
   "id": "bde697c5",
   "metadata": {},
   "outputs": [
    {
     "name": "stdout",
     "output_type": "stream",
     "text": [
      "[[0. 0. 0. 0. 1. 1. 1.]\n",
      " [0. 0. 0. 0. 1. 1. 1.]\n",
      " [0. 0. 0. 0. 1. 1. 1.]]\n"
     ]
    }
   ],
   "source": [
    "t_1 = np.zeros((3,4))\n",
    "t_2 = np.ones((3,3))\n",
    "t = np.concatenate((t_1, t_2), axis = 1)\n",
    "print(t)"
   ]
  },
  {
   "cell_type": "code",
   "execution_count": 59,
   "id": "18f30d1c",
   "metadata": {},
   "outputs": [
    {
     "name": "stdout",
     "output_type": "stream",
     "text": [
      "[ 4 16]\n"
     ]
    }
   ],
   "source": [
    "t_1 = [i for i in range(12)]\n",
    "t_1 = np.reshape(t_1, (3,4,1))\n",
    "#print(t_1)\n",
    "t_2 = [i for i in range(12, 24)]\n",
    "t_2 = np.reshape(t_2, (3,4,1))\n",
    "#print(t_2)\n",
    "t = np.concatenate((t_1, t_2), axis = 2)\n",
    "print(t[1,0])"
   ]
  },
  {
   "cell_type": "code",
   "execution_count": 66,
   "id": "b3334619",
   "metadata": {},
   "outputs": [
    {
     "name": "stdout",
     "output_type": "stream",
     "text": [
      "[[0. 0. 0. 1. 1. 1.]\n",
      " [0. 0. 0. 1. 1. 1.]\n",
      " [0. 0. 0. 1. 1. 1.]]\n",
      " \n",
      "[[0. 0. 0. 1. 1. 1. 0. 0. 0.]\n",
      " [1. 1. 1. 0. 0. 0. 1. 1. 1.]]\n"
     ]
    }
   ],
   "source": [
    "t_1 = np.zeros((3,3))\n",
    "t_2 = np.ones((3,3))\n",
    "t = np.concatenate((t_1, t_2), axis = 1)\n",
    "print(t)\n",
    "print(\" \")\n",
    "t = np.reshape(t, (2,9))\n",
    "print(t)"
   ]
  },
  {
   "cell_type": "code",
   "execution_count": 82,
   "id": "383a5209",
   "metadata": {},
   "outputs": [
    {
     "name": "stdout",
     "output_type": "stream",
     "text": [
      "(4,)\n",
      "(4, 1)\n",
      "(4,)\n"
     ]
    }
   ],
   "source": [
    "# utilité de la méthode reshape et squeeze\n",
    "t = np.array([1, 2, 3, 4])\n",
    "print(t.shape)\n",
    "t = t.reshape((t.shape[0],1))\n",
    "print(t.shape)\n",
    "t = t.squeeze()\n",
    "print(t.shape)"
   ]
  },
  {
   "cell_type": "code",
   "execution_count": 83,
   "id": "ef926565",
   "metadata": {},
   "outputs": [
    {
     "name": "stdout",
     "output_type": "stream",
     "text": [
      "[[0. 0. 0. 1. 1. 1.]\n",
      " [0. 0. 0. 1. 1. 1.]\n",
      " [0. 0. 0. 1. 1. 1.]]\n",
      " \n",
      "[0. 0. 0. 1. 1. 1. 0. 0. 0. 1. 1. 1. 0. 0. 0. 1. 1. 1.]\n"
     ]
    }
   ],
   "source": [
    "# utilité de la méthode ravel\n",
    "t_1 = np.zeros((3,3))\n",
    "t_2 = np.ones((3,3))\n",
    "t = np.concatenate((t_1, t_2), axis = 1)\n",
    "print(t)\n",
    "print(\" \")\n",
    "t = t.ravel()\n",
    "print(t)"
   ]
  },
  {
   "cell_type": "code",
   "execution_count": null,
   "id": "974224f7",
   "metadata": {},
   "outputs": [],
   "source": []
  }
 ],
 "metadata": {
  "kernelspec": {
   "display_name": "Python 3 (ipykernel)",
   "language": "python",
   "name": "python3"
  },
  "language_info": {
   "codemirror_mode": {
    "name": "ipython",
    "version": 3
   },
   "file_extension": ".py",
   "mimetype": "text/x-python",
   "name": "python",
   "nbconvert_exporter": "python",
   "pygments_lexer": "ipython3",
   "version": "3.9.12"
  }
 },
 "nbformat": 4,
 "nbformat_minor": 5
}

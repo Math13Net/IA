{
 "cells": [
  {
   "cell_type": "markdown",
   "id": "a48f4188",
   "metadata": {},
   "source": [
    "# **Initiation au Deep Learning pour les élèves de Seconde**"
   ]
  },
  {
   "cell_type": "markdown",
   "id": "3929eb7b",
   "metadata": {},
   "source": [
    "\n",
    "Ce notebook guide les élèves à travers les bases du Deep Learning à l'aide d'un exemple pratique : la reconnaissance de chiffres manuscrits (jeu de données MNIST).\n",
    "\n",
    "---\n",
    "\n",
    "## **1. Introduction**\n",
    "Le deep learning repose sur des réseaux de neurones, qui sont inspirés par le fonctionnement du cerveau humain. Ces réseaux peuvent apprendre à reconnaître des motifs complexes dans des données telles que des images, du texte ou du son.\n",
    "\n",
    "Dans cette activité, nous allons :\n",
    "\n",
    "1. Découvrir un réseau de neurones simple.\n",
    "2. Entraîner un modèle pour reconnaître des chiffres manuscrits.\n",
    "3. Explorer les hyperparamètres.\n",
    "4. Comprendre les notions de biais et de sur-apprentissage.\n"
   ]
  },
  {
   "cell_type": "markdown",
   "id": "fc69f481",
   "metadata": {},
   "source": [
    "## **2. Installation et Importation des Bibliothèques**"
   ]
  },
  {
   "cell_type": "code",
   "execution_count": null,
   "id": "db956608",
   "metadata": {},
   "outputs": [],
   "source": [
    "\n",
    "!pip install tensorflow matplotlib\n",
    "import tensorflow as tf\n",
    "from tensorflow.keras import Sequential\n",
    "from tensorflow.keras.layers import Dense, Flatten, Dropout\n",
    "from tensorflow.keras.datasets import mnist\n",
    "import matplotlib.pyplot as plt\n",
    "import numpy as np\n"
   ]
  },
  {
   "cell_type": "markdown",
   "id": "4e7c1568",
   "metadata": {},
   "source": [
    "## **3. Chargement et Prévisualisation des Données**"
   ]
  },
  {
   "cell_type": "code",
   "execution_count": null,
   "id": "7811505b",
   "metadata": {},
   "outputs": [],
   "source": [
    "\n",
    "# Chargement des données MNIST\n",
    "(x_train, y_train), (x_test, y_test) = mnist.load_data()\n",
    "\n",
    "# Affichage des premières images\n",
    "plt.figure(figsize=(10, 5))\n",
    "for i in range(6):\n",
    "    plt.subplot(2, 3, i + 1)\n",
    "    plt.imshow(x_train[i], cmap='gray')\n",
    "    plt.title(f\"Label: {y_train[i]}\")\n",
    "    plt.axis('off')\n",
    "plt.show()\n"
   ]
  },
  {
   "cell_type": "markdown",
   "id": "a094b0e7",
   "metadata": {},
   "source": [
    "## **4. Prétraitement des Données**"
   ]
  },
  {
   "cell_type": "code",
   "execution_count": null,
   "id": "1e6c883a",
   "metadata": {},
   "outputs": [],
   "source": [
    "\n",
    "# Normalisation des images\n",
    "x_train = x_train / 255.0\n",
    "x_test = x_test / 255.0\n",
    "\n",
    "# Encodage des labels pour classification\n",
    "y_train = tf.keras.utils.to_categorical(y_train, 10)\n",
    "y_test = tf.keras.utils.to_categorical(y_test, 10)\n"
   ]
  },
  {
   "cell_type": "markdown",
   "id": "1552048c",
   "metadata": {},
   "source": [
    "## **5. Création d'un Modèle Simple**"
   ]
  },
  {
   "cell_type": "code",
   "execution_count": null,
   "id": "5a545796",
   "metadata": {},
   "outputs": [],
   "source": [
    "\n",
    "model = Sequential([\n",
    "    Flatten(input_shape=(28, 28)),  # Transformation des images en vecteurs\n",
    "    Dense(128, activation='relu'),  # Couche cachée avec 128 neurones\n",
    "    Dense(10, activation='softmax')  # Couche de sortie pour 10 classes\n",
    "])\n",
    "\n",
    "model.compile(optimizer='adam',\n",
    "              loss='categorical_crossentropy',\n",
    "              metrics=['accuracy'])\n",
    "\n",
    "model.summary()\n"
   ]
  },
  {
   "cell_type": "markdown",
   "id": "ca4e48ce",
   "metadata": {},
   "source": [
    "## **6. Entraînement du Modèle**"
   ]
  },
  {
   "cell_type": "code",
   "execution_count": null,
   "id": "5fe6b73e",
   "metadata": {},
   "outputs": [],
   "source": [
    "\n",
    "history = model.fit(x_train, y_train, epochs=5, validation_split=0.2)\n"
   ]
  },
  {
   "cell_type": "markdown",
   "id": "87019da4",
   "metadata": {},
   "source": [
    "## **7. Visualisation des Performances**"
   ]
  },
  {
   "cell_type": "code",
   "execution_count": null,
   "id": "65dd63eb",
   "metadata": {},
   "outputs": [],
   "source": [
    "\n",
    "# Précision\n",
    "plt.plot(history.history['accuracy'], label='Précision Entraînement')\n",
    "plt.plot(history.history['val_accuracy'], label='Précision Validation')\n",
    "plt.xlabel('Époques')\n",
    "plt.ylabel('Précision')\n",
    "plt.legend()\n",
    "plt.show()\n"
   ]
  },
  {
   "cell_type": "markdown",
   "id": "24e594fa",
   "metadata": {},
   "source": [
    "## **8. Expérimentation avec les Hyperparamètres**"
   ]
  },
  {
   "cell_type": "markdown",
   "id": "a1878784",
   "metadata": {},
   "source": [
    "### Variation du Nombre de Neurones"
   ]
  },
  {
   "cell_type": "code",
   "execution_count": null,
   "id": "b3737c70",
   "metadata": {},
   "outputs": [],
   "source": [
    "\n",
    "model_small = Sequential([\n",
    "    Flatten(input_shape=(28, 28)),\n",
    "    Dense(64, activation='relu'),\n",
    "    Dense(10, activation='softmax')\n",
    "])\n",
    "model_small.compile(optimizer='adam',\n",
    "                    loss='categorical_crossentropy',\n",
    "                    metrics=['accuracy'])\n",
    "\n",
    "history_small = model_small.fit(x_train, y_train, epochs=5, validation_split=0.2)\n"
   ]
  },
  {
   "cell_type": "markdown",
   "id": "d66b183c",
   "metadata": {},
   "source": [
    "### Variation du Nombre d'Époques"
   ]
  },
  {
   "cell_type": "code",
   "execution_count": null,
   "id": "89c9798d",
   "metadata": {},
   "outputs": [],
   "source": [
    "\n",
    "history_long = model.fit(x_train, y_train, epochs=10, validation_split=0.2)\n"
   ]
  },
  {
   "cell_type": "markdown",
   "id": "45f6ab77",
   "metadata": {},
   "source": [
    "## **9. Détection des Biais**"
   ]
  },
  {
   "cell_type": "code",
   "execution_count": null,
   "id": "a09e5eb2",
   "metadata": {},
   "outputs": [],
   "source": [
    "\n",
    "# Filtrage des chiffres \"0\" et \"9\"\n",
    "indices = (np.argmax(y_train, axis=1) == 0) | (np.argmax(y_train, axis=1) == 9)\n",
    "x_train_imbalanced = x_train[indices]\n",
    "y_train_imbalanced = y_train[indices]\n",
    "\n",
    "model_bias = Sequential([\n",
    "    Flatten(input_shape=(28, 28)),\n",
    "    Dense(128, activation='relu'),\n",
    "    Dense(10, activation='softmax')\n",
    "])\n",
    "model_bias.compile(optimizer='adam',\n",
    "                   loss='categorical_crossentropy',\n",
    "                   metrics=['accuracy'])\n",
    "\n",
    "history_bias = model_bias.fit(x_train_imbalanced, y_train_imbalanced, epochs=5, validation_split=0.2)\n"
   ]
  },
  {
   "cell_type": "markdown",
   "id": "b66317f9",
   "metadata": {},
   "source": [
    "## **10. Conclusion**"
   ]
  },
  {
   "cell_type": "markdown",
   "id": "23f6eeae",
   "metadata": {},
   "source": [
    "\n",
    "Le deep learning est une technologie puissante, mais il est important de :\n",
    "\n",
    "1. Comprendre les **hyperparamètres** et leur influence sur les performances.\n",
    "2. Reconnaître les **biais** et leur impact sur les résultats.\n",
    "3. Explorer les notions avancées comme les réseaux convolutifs pour les images.\n",
    "\n",
    "Prochaines étapes :\n",
    "- Étudier les réseaux convolutifs pour améliorer la précision sur les images.\n",
    "- Découvrir des jeux de données plus complexes.\n"
   ]
  }
 ],
 "metadata": {},
 "nbformat": 4,
 "nbformat_minor": 5
}
